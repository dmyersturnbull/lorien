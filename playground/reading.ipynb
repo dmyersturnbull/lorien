{
 "cells": [
  {
   "cell_type": "code",
   "execution_count": null,
   "metadata": {
    "run_control": {
     "frozen": false,
     "read_only": false
    }
   },
   "outputs": [],
   "source": [
    "import os, sys\n",
    "sys.path.append(os.path.abspath(os.environ['KLSCRIPTS']))\n",
    "from klscripts.model.jupyter import *\n",
    "\n",
    "%matplotlib inline\n",
    "%load_ext autoreload\n",
    "%autoreload 2\n",
    "\n",
    "Tools.git_commit_hash(os.environ['KLSCRIPTS'])"
   ]
  },
  {
   "cell_type": "code",
   "execution_count": null,
   "metadata": {
    "run_control": {
     "frozen": false,
     "read_only": false
    }
   },
   "outputs": [],
   "source": [
    "import numpy as np\n",
    "# conda install opencv\n",
    "# If this isn't installed, will silently never open a video:\n",
    "# opencv-contrib-python\n",
    "# pip install --default-timeout=300 opencv-contrib-python\n",
    "import cv2\n",
    "\n",
    "\n",
    "def m(threshold):\n",
    "    diffs = frame - prev > threshold\n",
    "    return np.count_nonzero(diffs)\n",
    "\n",
    "class StreamFeature:\n",
    "    def __init__(self, path: str):\n",
    "        self._path = path\n",
    "        self._cap = cv2.VideoCapture(path)\n",
    "    \n",
    "    def stream(self, length: int, roi):\n",
    "        if not self._cap.isOpened(): raise ValueError('TODO')\n",
    "        _, raw = self._cap.read()\n",
    "        prev = cv2.cvtColor(raw, cv2.COLOR_BGR2GRAY)\n",
    "        vals = self.init_vals(length)\n",
    "        i = 0\n",
    "        while(self._cap.isOpened()):\n",
    "            _, raw = self._cap.read()\n",
    "            frame = cv2.cvtColor(raw, cv2.COLOR_BGR2GRAY)\n",
    "            val = self.calc(self.crop(frame, roi), self.crop(prev, roi))\n",
    "            vals = self.combine_vals(vals, val, i)\n",
    "            prev = frame\n",
    "            i += 1\n",
    "            if i > 10000: return vals\n",
    "        return vals\n",
    "    \n",
    "    def crop(self, frame, roi):\n",
    "        r0,r1,c0,c1 = roi\n",
    "        #print(roi, frame.shape)\n",
    "        #raise ValueError()\n",
    "        return frame[r0:r1,c0:c1]\n",
    "    \n",
    "    def init_vals(self, length):\n",
    "        raise NotImplementedError()\n",
    "        \n",
    "    def combine_vals(self, prev_vals, next_val, i):\n",
    "        raise NotImplementedError()\n",
    "    \n",
    "    def calc(self, frame, prev):\n",
    "        raise NotImplementedError()\n",
    "    \n",
    "    def __enter__(self):\n",
    "        return self\n",
    "\n",
    "    def __exit__(self, exc_type, exc_val, exc_tb):\n",
    "        self._cap.release()\n",
    "\n",
    "\n",
    "class MiFeature(StreamFeature):\n",
    "    def init_vals(self, length):\n",
    "        return np.zeros(length - 1)\n",
    "    def combine_vals(self, prev_vals, next_val, i):\n",
    "        prev_vals[i] = next_val\n",
    "    def calc(self, frame, prev):\n",
    "        pass\n",
    "\n",
    "    \n",
    "class MiHistFeature(StreamFeature):\n",
    "    \n",
    "    def init_vals(self, length):\n",
    "        return np.zeros(200+256)\n",
    "    \n",
    "    def combine_vals(self, prev_vals, next_val, i):\n",
    "        prev_vals += next_val\n",
    "        return prev_vals\n",
    "        \n",
    "    def calc(self, frame, prev):\n",
    "        return np.bincount((200 + frame.astype(np.int16) - prev.astype(np.int16)).flatten(), minlength=200+256)\n"
   ]
  },
  {
   "cell_type": "code",
   "execution_count": null,
   "metadata": {
    "run_control": {
     "frozen": false,
     "read_only": false
    }
   },
   "outputs": [],
   "source": [
    "\n",
    "path = '/Users/student/valar-cache/videos/2255/x265-crf15/x265-crf15.mkv'\n",
    "hist_top = MiHistFeature(path).stream(20500, (0, int(round(796/2)), 0, 1180))\n",
    "hist_bottom = MiHistFeature(path).stream(20500, (int(round(796/2)), 796, 0, 1180))"
   ]
  },
  {
   "cell_type": "code",
   "execution_count": null,
   "metadata": {
    "run_control": {
     "frozen": false,
     "read_only": false
    },
    "scrolled": false
   },
   "outputs": [],
   "source": [
    "left = 200 - 60\n",
    "right = 200 + 60\n",
    "fig = plt.figure(figsize=(30, 30))\n",
    "ax = fig.add_subplot(1, 1, 1)\n",
    "sns.barplot(np.arange(left, right), hist_top[left:right], ax=ax, color='#ff0000', alpha=.4)\n",
    "sns.barplot(np.arange(left, right), hist_bottom[left:right], ax=ax, color='#0000ff', alpha=.4)\n",
    "ax.set_ybound(0, 5000000)  # 500000000\n",
    "fig\n",
    "pass"
   ]
  },
  {
   "cell_type": "code",
   "execution_count": null,
   "metadata": {
    "run_control": {
     "frozen": false,
     "read_only": false
    },
    "scrolled": false
   },
   "outputs": [],
   "source": [
    "center = 200\n",
    "\n",
    "left = center - 32\n",
    "right = center + 32\n",
    "fig = plt.figure(figsize=(10, 10))\n",
    "ax = fig.add_subplot(1, 1, 1)\n",
    "sns.barplot(np.arange(left, right), np.log10(hist_bottom / hist_top)[left:right], ax=ax, color='#000000')\n",
    "fig\n",
    "pass\n",
    "\n"
   ]
  },
  {
   "cell_type": "code",
   "execution_count": null,
   "metadata": {
    "run_control": {
     "frozen": false,
     "read_only": false
    }
   },
   "outputs": [],
   "source": []
  }
 ],
 "metadata": {
  "kernelspec": {
   "display_name": "Python [conda root]",
   "language": "python",
   "name": "conda-root-py"
  },
  "language_info": {
   "codemirror_mode": {
    "name": "ipython",
    "version": 3
   },
   "file_extension": ".py",
   "mimetype": "text/x-python",
   "name": "python",
   "nbconvert_exporter": "python",
   "pygments_lexer": "ipython3",
   "version": "3.5.3"
  },
  "latex_envs": {
   "bibliofile": "biblio.bib",
   "cite_by": "apalike",
   "current_citInitial": 1,
   "eqLabelWithNumbers": true,
   "eqNumInitial": 0
  },
  "nav_menu": {},
  "toc": {
   "navigate_menu": true,
   "number_sections": true,
   "sideBar": true,
   "threshold": 6,
   "toc_cell": false,
   "toc_section_display": "block",
   "toc_window_display": false
  }
 },
 "nbformat": 4,
 "nbformat_minor": 2
}
